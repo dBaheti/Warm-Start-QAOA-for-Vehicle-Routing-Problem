{
 "cells": [
  {
   "cell_type": "code",
   "execution_count": 1,
   "id": "7350db2f-17d2-41ba-a238-99b7e23dad95",
   "metadata": {},
   "outputs": [],
   "source": [
    "import numpy as np\n",
    "import matplotlib.pyplot as plt\n",
    "import pandas as pd\n",
    "import os.path\n",
    "from time import process_time\n",
    "\n",
    "# Importing standard Qiskit libraries\n",
    "from qiskit import QuantumCircuit, transpile, Aer\n",
    "from qiskit.tools.jupyter import *\n",
    "from qiskit.visualization import *\n",
    "from ibm_quantum_widgets import *\n",
    "from qiskit.providers.aer import QasmSimulator\n",
    "from qiskit_ibm_provider import IBMProvider\n",
    "\n",
    "# Loading your IBM Quantum account(s)\n",
    "provider = IBMProvider()\n",
    "import numpy as np\n",
    "from docplex.mp.model import Model\n",
    "\n",
    "# Qiskit packages\n",
    "from qiskit import BasicAer\n",
    "\n",
    "# Importing standard Qiskit libraries\n",
    "from qiskit.algorithms import QAOA\n",
    "from qiskit.utils import QuantumInstance, algorithm_globals\n",
    "from qiskit_optimization import QuadraticProgram\n",
    "from qiskit_optimization.algorithms import WarmStartQAOAOptimizer, CplexOptimizer, MinimumEigenOptimizer\n",
    "from qiskit_optimization.translators import from_docplex_mp"
   ]
  },
  {
   "cell_type": "code",
   "execution_count": null,
   "id": "7ac29a51-70b7-4294-b731-ef0365ca6810",
   "metadata": {},
   "outputs": [],
   "source": [
    "#pip install qiskit_ibm_provider"
   ]
  },
  {
   "cell_type": "code",
   "execution_count": 2,
   "id": "433d3a05-b1e4-4dd5-afec-22a250b684ad",
   "metadata": {},
   "outputs": [
    {
     "name": "stdout",
     "output_type": "stream",
     "text": [
      "Requirement already satisfied: cplex in /opt/conda/lib/python3.8/site-packages (20.1.0.1)\n",
      "Note: you may need to restart the kernel to use updated packages.\n"
     ]
    }
   ],
   "source": [
    "#pip install cplex ### If you don't have Cplex installed in your environment or get a error regarding cplex optimizer, then uncomment this line to install cplex ###"
   ]
  },
  {
   "cell_type": "markdown",
   "id": "972868c5-e075-43db-b858-aa77f064ecec",
   "metadata": {},
   "source": [
    "# Initializing our Vehicle Routing Problem"
   ]
  },
  {
   "cell_type": "code",
   "execution_count": 3,
   "id": "5a1afdb0-e43f-45b2-a0d4-6054cf8bea84",
   "metadata": {},
   "outputs": [
    {
     "name": "stdin",
     "output_type": "stream",
     "text": [
      "Number of locations:  5\n",
      "Number of vehicles:  5\n"
     ]
    }
   ],
   "source": [
    "n=int (input(\"Number of locations: \"))\n",
    "K=int (input(\"Number of vehicles: \"))"
   ]
  },
  {
   "cell_type": "code",
   "execution_count": 4,
   "id": "ad434b48-d748-49c5-b482-888073848fbe",
   "metadata": {},
   "outputs": [],
   "source": [
    "# Defining our Initialization class\n",
    "\n",
    "class Initializer:\n",
    "\n",
    "    def __init__(self, n):\n",
    "        self.n = n\n",
    "\n",
    "    def generate_nodes_and_weight_matrix(self):\n",
    "\n",
    "        n = self.n\n",
    "\n",
    "        #np.random.seed(42)\n",
    "\n",
    "        x = (np.random.rand(n) - 0.5) * 10\n",
    "        y = (np.random.rand(n) - 0.5) * 10\n",
    "\n",
    "        weight_matrix = np.zeros([n, n])\n",
    "        for i in range(n):\n",
    "            for j in range(i+1, n):\n",
    "                weight_matrix[i, j] = (x[i] - x[j]) ** 2 + (y[i] - y[j]) ** 2\n",
    "                weight_matrix[j, i] = weight_matrix[i, j]\n",
    "\n",
    "        return x, y, weight_matrix"
   ]
  },
  {
   "cell_type": "code",
   "execution_count": 5,
   "id": "3093d196-f353-411b-bf77-aa88088053bb",
   "metadata": {},
   "outputs": [],
   "source": [
    "# Initialize the problem by randomly generating the nodes and weight\n",
    "\n",
    "initializer = Initializer(n)\n",
    "x,y,weight_matrix = initializer.generate_nodes_and_weight_matrix()"
   ]
  },
  {
   "cell_type": "markdown",
   "id": "bd3336c9-fda6-4e94-beb5-54c0fc49ff92",
   "metadata": {},
   "source": [
    "# Quantum Optimization with Warm Starting QAOA"
   ]
  },
  {
   "cell_type": "code",
   "execution_count": 6,
   "id": "b016cef2-df21-4be4-ba55-34e9181be068",
   "metadata": {},
   "outputs": [],
   "source": [
    "# Defining our Quantum Optimizer class\n",
    "\n",
    "class QuantumOptimizerWarmStart:\n",
    "\n",
    "    def __init__(self, weight_matrix, n, K):\n",
    "\n",
    "        self.weight_matrix = weight_matrix\n",
    "        self.n = n\n",
    "        self.K = K\n",
    "\n",
    "    def binary_representation_warm_start(self, x_sol=0):\n",
    "\n",
    "        weight_matrix = self.weight_matrix\n",
    "        n = self.n\n",
    "        K = self.K\n",
    "\n",
    "        A = np.max(weight_matrix) * 100  # A parameter of cost function\n",
    "\n",
    "        # Determine the weights w\n",
    "        weight_matrix_vec = weight_matrix.reshape(n ** 2)\n",
    "        w_list = [weight_matrix_vec[x] for x in range(n ** 2) if weight_matrix_vec[x] > 0]\n",
    "        w = np.zeros(n * (n - 1))\n",
    "        for i in range(len(w_list)):\n",
    "            w[i] = w_list[i]\n",
    "\n",
    "        # Some variables I will use\n",
    "        Id_n = np.eye(n)\n",
    "        Im_n_1 = np.ones([n - 1, n - 1])\n",
    "        Iv_n_1 = np.ones(n)\n",
    "        Iv_n_1[0] = 0\n",
    "        Iv_n = np.ones(n - 1)\n",
    "        neg_Iv_n_1 = np.ones(n) - Iv_n_1\n",
    "\n",
    "        v = np.zeros([n, n * (n - 1)])\n",
    "        for i in range(n):\n",
    "            count = i - 1\n",
    "            for j in range(n * (n - 1)):\n",
    "\n",
    "                if j // (n - 1) == i:\n",
    "                    count = i\n",
    "\n",
    "                if j // (n - 1) != i and j % (n - 1) == count:\n",
    "                    v[i][j] = 1.\n",
    "\n",
    "        vn = np.sum(v[1:], axis=0)\n",
    "\n",
    "        # Q defines the interactions between variables\n",
    "        Q = A * (np.kron(Id_n, Im_n_1) + np.dot(v.T, v))\n",
    "\n",
    "        # g defines the contribution from the individual variables\n",
    "        g = w - 2 * A * (np.kron(Iv_n_1, Iv_n) + vn.T) - \\\n",
    "            2 * A * K * (np.kron(neg_Iv_n_1, Iv_n) + v[0].T)\n",
    "\n",
    "        # c is the constant offset\n",
    "        c = 2 * A * (n - 1) + 2 * A * (K ** 2)\n",
    "\n",
    "        try:\n",
    "            max(x_sol)\n",
    "            # Evaluates the cost distance from a binary representation of a path\n",
    "            fun = lambda x: np.dot(np.around(x), np.dot(Q, np.around(x))) + np.dot(g, np.around(x)) + c\n",
    "            cost = fun(x_sol)\n",
    "        except:\n",
    "            cost = 0\n",
    "\n",
    "        return Q, g, c, cost\n",
    "\n",
    "    def construct_problem_warm_start(self, Q, g, c) -> QuadraticProgram:\n",
    "        mdl = Model()\n",
    "        x = [mdl.binary_var('x%s' % i) for i in range(n * (n - 1))]\n",
    "\n",
    "        objective = mdl.sum([g[i] * x[i] for i in range(n * (n - 1))])\n",
    "        objective += mdl.sum(\n",
    "            [Q[i, j] * x[i] * x[j] for i in range(n * (n - 1)) for j in range(n * (n - 1))])\n",
    "        objective += mdl.sum(c)\n",
    "        mdl.minimize(objective)\n",
    "        cost = mdl.sum(x)\n",
    "        # mdl.add_constraint(cost <= n*(n-1))\n",
    "        # mdl.add_constraint(cost >= 0)\n",
    "        qp = from_docplex_mp(mdl)\n",
    "        return qp\n",
    "\n",
    "    def solve_problem_warm_start(self, qp):\n",
    "        algorithm_globals.random_seed = 43\n",
    "        quantum_instance = QuantumInstance(BasicAer.get_backend('qasm_simulator'),\n",
    "                                           seed_simulator=algorithm_globals.random_seed,\n",
    "                                           seed_transpiler=algorithm_globals.random_seed)\n",
    "\n",
    "        qaoa = QAOA(quantum_instance=quantum_instance, initial_point=[0., 1.])\n",
    "        ws_qaoa = WarmStartQAOAOptimizer(pre_solver=CplexOptimizer(), relax_for_pre_solver=True, qaoa=qaoa,\n",
    "                                         epsilon=0.0)\n",
    "        result = ws_qaoa.solve(qp)\n",
    "        # compute cost of the obtained result\n",
    "        _, _, _, level = self.binary_representation_warm_start(x_sol=result.x)\n",
    "        return result, result.x, level"
   ]
  },
  {
   "cell_type": "code",
   "execution_count": 7,
   "id": "476a5446-34bb-4632-b565-82562b51476f",
   "metadata": {},
   "outputs": [],
   "source": [
    "# Instantiate the quantum optimizer class with parameters:\n",
    "quantum_optimizer_warm_start = QuantumOptimizerWarmStart(weight_matrix, n, K)"
   ]
  },
  {
   "cell_type": "code",
   "execution_count": 8,
   "id": "2185736d-d9cb-43fa-938b-10873678d55a",
   "metadata": {},
   "outputs": [],
   "source": [
    "Q_warm_start, g_warm_start, c_warm_start, binary_cost_warm_start = quantum_optimizer_warm_start.binary_representation_warm_start()"
   ]
  },
  {
   "cell_type": "code",
   "execution_count": 9,
   "id": "14ee78c4-9733-4a42-80a2-af202637c5ed",
   "metadata": {},
   "outputs": [
    {
     "name": "stdout",
     "output_type": "stream",
     "text": [
      "\\ This file has been generated by DOcplex\n",
      "\\ ENCODING=ISO-8859-1\n",
      "\\Problem name: docplex_model1\n",
      "\n",
      "Minimize\n",
      " obj: - 73596.904450919756 x0 - 73560.931412470265 x1 - 73548.240960018622 x2\n",
      "      - 73596.881156280782 x3 - 73596.904450919756 x4 - 24492.877514744137 x5\n",
      "      - 24474.641331199731 x6 - 24532.530524991133 x7 - 73560.931412470265 x8\n",
      "      - 24492.877514744137 x9 - 24524.640874012217 x10 - 24489.298996987432 x11\n",
      "      - 73548.240960018622 x12 - 24474.641331199731 x13 - 24524.640874012217 x14\n",
      "      - 24471.291123748873 x15 - 73596.881156280782 x16 - 24532.530524991133 x17\n",
      "      - 24489.298996987432 x18 - 24471.291123748873 x19 + [\n",
      "      24532.622680449997 x0^2 + 24532.622680449997 x0*x1\n",
      "      + 24532.622680449997 x0*x2 + 24532.622680449997 x0*x3\n",
      "      + 24532.622680449997 x0*x9 + 24532.622680449997 x0*x13\n",
      "      + 24532.622680449997 x0*x17 + 24532.622680449997 x1^2\n",
      "      + 24532.622680449997 x1*x2 + 24532.622680449997 x1*x3\n",
      "      + 24532.622680449997 x1*x5 + 24532.622680449997 x1*x14\n",
      "      + 24532.622680449997 x1*x18 + 24532.622680449997 x2^2\n",
      "      + 24532.622680449997 x2*x3 + 24532.622680449997 x2*x6\n",
      "      + 24532.622680449997 x2*x10 + 24532.622680449997 x2*x19\n",
      "      + 24532.622680449997 x3^2 + 24532.622680449997 x3*x7\n",
      "      + 24532.622680449997 x3*x11 + 24532.622680449997 x3*x15\n",
      "      + 24532.622680449997 x4^2 + 24532.622680449997 x4*x5\n",
      "      + 24532.622680449997 x4*x6 + 24532.622680449997 x4*x7\n",
      "      + 24532.622680449997 x4*x8 + 24532.622680449997 x4*x12\n",
      "      + 24532.622680449997 x4*x16 + 24532.622680449997 x5^2\n",
      "      + 24532.622680449997 x5*x6 + 24532.622680449997 x5*x7\n",
      "      + 24532.622680449997 x5*x14 + 24532.622680449997 x5*x18\n",
      "      + 24532.622680449997 x6^2 + 24532.622680449997 x6*x7\n",
      "      + 24532.622680449997 x6*x10 + 24532.622680449997 x6*x19\n",
      "      + 24532.622680449997 x7^2 + 24532.622680449997 x7*x11\n",
      "      + 24532.622680449997 x7*x15 + 24532.622680449997 x8^2\n",
      "      + 24532.622680449997 x8*x9 + 24532.622680449997 x8*x10\n",
      "      + 24532.622680449997 x8*x11 + 24532.622680449997 x8*x12\n",
      "      + 24532.622680449997 x8*x16 + 24532.622680449997 x9^2\n",
      "      + 24532.622680449997 x9*x10 + 24532.622680449997 x9*x11\n",
      "      + 24532.622680449997 x9*x13 + 24532.622680449997 x9*x17\n",
      "      + 24532.622680449997 x10^2 + 24532.622680449997 x10*x11\n",
      "      + 24532.622680449997 x10*x19 + 24532.622680449997 x11^2\n",
      "      + 24532.622680449997 x11*x15 + 24532.622680449997 x12^2\n",
      "      + 24532.622680449997 x12*x13 + 24532.622680449997 x12*x14\n",
      "      + 24532.622680449997 x12*x15 + 24532.622680449997 x12*x16\n",
      "      + 24532.622680449997 x13^2 + 24532.622680449997 x13*x14\n",
      "      + 24532.622680449997 x13*x15 + 24532.622680449997 x13*x17\n",
      "      + 24532.622680449997 x14^2 + 24532.622680449997 x14*x15\n",
      "      + 24532.622680449997 x14*x18 + 24532.622680449997 x15^2\n",
      "      + 24532.622680449997 x16^2 + 24532.622680449997 x16*x17\n",
      "      + 24532.622680449997 x16*x18 + 24532.622680449997 x16*x19\n",
      "      + 24532.622680449997 x17^2 + 24532.622680449997 x17*x18\n",
      "      + 24532.622680449997 x17*x19 + 24532.622680449997 x18^2\n",
      "      + 24532.622680449997 x18*x19 + 24532.622680449997 x19^2 ]/2 +\n",
      "      355723.028866524983\n",
      "Subject To\n",
      "\n",
      "Bounds\n",
      " 0 <= x0 <= 1\n",
      " 0 <= x1 <= 1\n",
      " 0 <= x2 <= 1\n",
      " 0 <= x3 <= 1\n",
      " 0 <= x4 <= 1\n",
      " 0 <= x5 <= 1\n",
      " 0 <= x6 <= 1\n",
      " 0 <= x7 <= 1\n",
      " 0 <= x8 <= 1\n",
      " 0 <= x9 <= 1\n",
      " 0 <= x10 <= 1\n",
      " 0 <= x11 <= 1\n",
      " 0 <= x12 <= 1\n",
      " 0 <= x13 <= 1\n",
      " 0 <= x14 <= 1\n",
      " 0 <= x15 <= 1\n",
      " 0 <= x16 <= 1\n",
      " 0 <= x17 <= 1\n",
      " 0 <= x18 <= 1\n",
      " 0 <= x19 <= 1\n",
      "\n",
      "Binaries\n",
      " x0 x1 x2 x3 x4 x5 x6 x7 x8 x9 x10 x11 x12 x13 x14 x15 x16 x17 x18 x19\n",
      "End\n",
      "\n"
     ]
    }
   ],
   "source": [
    "qp_warm_start = quantum_optimizer_warm_start.construct_problem_warm_start(Q_warm_start, g_warm_start, c_warm_start)\n",
    "print(qp_warm_start)"
   ]
  },
  {
   "cell_type": "code",
   "execution_count": 10,
   "id": "b2c7653b-26b0-43fa-87ec-c0337ca8cfc0",
   "metadata": {},
   "outputs": [
    {
     "name": "stdout",
     "output_type": "stream",
     "text": [
      "Elapsed time during the whole program in seconds: 39.574149056\n",
      "[1. 1. 1. 1. 1. 0. 0. 0. 1. 0. 0. 0. 1. 0. 0. 0. 1. 0. 0. 0.] 12443.339711646142\n"
     ]
    }
   ],
   "source": [
    "### Solving Vehicle Routing Problem with Warm Starting QAOA ###\n",
    "t_start = process_time()\n",
    "quantum_warm_start, quantum_solution_warm_start, quantum_cost_warm_start = quantum_optimizer_warm_start.solve_problem_warm_start(qp_warm_start)\n",
    "t_stop = process_time()\n",
    "t = t_stop-t_start\n",
    "   \n",
    "print(\"Elapsed time during the whole program in seconds:\", t)\n",
    "\n",
    "print(quantum_solution_warm_start, quantum_cost_warm_start)"
   ]
  },
  {
   "cell_type": "code",
   "execution_count": 11,
   "id": "9ddf5800-9718-4f11-a23e-6e8ca7fe1110",
   "metadata": {},
   "outputs": [
    {
     "data": {
      "image/png": "[encoded data removed]",
      "text/plain": [
       "<Figure size 432x288 with 1 Axes>"
      ]
     },
     "metadata": {
      "needs_background": "light"
     },
     "output_type": "display_data"
    }
   ],
   "source": [
    "### Plotting Samples to Bar Graph ###\n",
    "def samples_to_graph(data):\n",
    "    data_val={}\n",
    "    data_prob={}\n",
    "    for i in data:\n",
    "        arr=i.x.tolist()\n",
    "        arr=[str(int(i)) for i in arr]\n",
    "        key=''.join(arr)\n",
    "        data_val[key]=i.fval\n",
    "        data_prob[key]=i.probability\n",
    "    data_val_sorted=sorted(data_val, key=data_val.get)\n",
    "    least_10=data_val_sorted[0:10]\n",
    "    plot_dic={}\n",
    "    for i in least_10:\n",
    "        plot_dic[i]=data_prob[i]\n",
    "    plt.xticks(rotation=90)\n",
    "    plt.bar(range(len(plot_dic)), plot_dic.values(), tick_label=least_10)\n",
    "    \n",
    "    return least_10[0], plot_dic\n",
    "    \n",
    "optimal_10_warm_start, optimal_10_prob_warm_start = samples_to_graph(quantum_warm_start.samples) #The most optimal solutions will be plotted in descending order with most optimal solution being the first"
   ]
  },
  {
   "cell_type": "code",
   "execution_count": 12,
   "id": "ab6723d3-0f0e-4bf1-a23b-cf074e3a8972",
   "metadata": {},
   "outputs": [],
   "source": [
    "def visualize_solution(xc, yc, x, C, n, K, title_str):\n",
    "    plt.figure()\n",
    "    plt.scatter(xc, yc, s=200)\n",
    "    for i in range(len(xc)):\n",
    "        plt.annotate(i, (xc[i] + 0.15, yc[i]), size=16, color='r')\n",
    "    plt.plot(xc[0], yc[0], 'r*', ms=20)\n",
    "\n",
    "    plt.grid()\n",
    "\n",
    "    for ii in range(0, n ** 2):\n",
    "\n",
    "        if x[ii] > 0:\n",
    "            ix = ii // n\n",
    "            iy = ii % n\n",
    "            plt.arrow(xc[ix], yc[ix], xc[iy] - xc[ix], yc[iy] - yc[ix], length_includes_head=True, head_width=.25)\n",
    "\n",
    "\n",
    "    plt.title(title_str+' cost = ' + str(int(C * 100) / 100.))\n",
    "    plt.show()"
   ]
  },
  {
   "cell_type": "code",
   "execution_count": 13,
   "id": "ab6842bd-6bec-439d-aba6-f4a32ea2c0ee",
   "metadata": {},
   "outputs": [
    {
     "data": {
      "image/png": "[encoded data removed]",
      "text/plain": [
       "<Figure size 432x288 with 1 Axes>"
      ]
     },
     "metadata": {
      "needs_background": "light"
     },
     "output_type": "display_data"
    }
   ],
   "source": [
    "# Put the solution in a way that is compatible with the classical variables\n",
    "x_quantum = np.zeros(n**2)\n",
    "kk = 0\n",
    "for ii in range(n ** 2):\n",
    "    if ii // n != ii % n:\n",
    "        x_quantum[ii] = quantum_solution_warm_start[kk]\n",
    "        kk +=  1\n",
    "\n",
    "# visualize the solution\n",
    "visualize_solution(x, y, x_quantum, quantum_cost_warm_start, n, K, 'Quantum')"
   ]
  },
  {
   "cell_type": "code",
   "execution_count": 14,
   "id": "1dfce702-94dc-435f-8e07-8fffc815b8a8",
   "metadata": {},
   "outputs": [],
   "source": [
    "### Making a Dataframe of obtained results ###\n",
    "def solutions_to_df(n, K, optimal_10, quantum_cost, optimal_10_prob):\n",
    "    dfdata = np.array([n, K, optimal_10, quantum_cost, optimal_10_prob[optimal_10], t])\n",
    "    df = pd.DataFrame(data=dfdata, index=['n (No. of locations)', 'K (No. of vehicles)', 'Quantum Solution', 'Quantum Cost', 'Probability', 'Execution Time (in s)']).transpose()\n",
    "    return df"
   ]
  },
  {
   "cell_type": "code",
   "execution_count": 36,
   "id": "aaf1f7aa-b0fc-49a3-ab83-385fe3bcbfcc",
   "metadata": {},
   "outputs": [
    {
     "data": {
      "text/html": [
       "<div>\n",
       "<style scoped>\n",
       "    .dataframe tbody tr th:only-of-type {\n",
       "        vertical-align: middle;\n",
       "    }\n",
       "\n",
       "    .dataframe tbody tr th {\n",
       "        vertical-align: top;\n",
       "    }\n",
       "\n",
       "    .dataframe thead th {\n",
       "        text-align: right;\n",
       "    }\n",
       "</style>\n",
       "<table border=\"1\" class=\"dataframe\">\n",
       "  <thead>\n",
       "    <tr style=\"text-align: right;\">\n",
       "      <th></th>\n",
       "      <th>n (No. of locations)</th>\n",
       "      <th>K (No. of vehicles)</th>\n",
       "      <th>Quantum Solution</th>\n",
       "      <th>Quantum Cost</th>\n",
       "      <th>Probability</th>\n",
       "      <th>Execution Time (in s)</th>\n",
       "    </tr>\n",
       "  </thead>\n",
       "  <tbody>\n",
       "    <tr>\n",
       "      <th>1</th>\n",
       "      <td>4</td>\n",
       "      <td>2</td>\n",
       "      <td>11100100010</td>\n",
       "      <td>142.499906</td>\n",
       "      <td>0.011719</td>\n",
       "      <td>0.97977</td>\n",
       "    </tr>\n",
       "    <tr>\n",
       "      <th>2</th>\n",
       "      <td>4</td>\n",
       "      <td>3</td>\n",
       "      <td>111100100100</td>\n",
       "      <td>136.569436</td>\n",
       "      <td>0.999023</td>\n",
       "      <td>0.568725</td>\n",
       "    </tr>\n",
       "    <tr>\n",
       "      <th>3</th>\n",
       "      <td>5</td>\n",
       "      <td>2</td>\n",
       "      <td>10101000000110000010</td>\n",
       "      <td>123.297116</td>\n",
       "      <td>0.999023</td>\n",
       "      <td>33.383051</td>\n",
       "    </tr>\n",
       "    <tr>\n",
       "      <th>4</th>\n",
       "      <td>5</td>\n",
       "      <td>3</td>\n",
       "      <td>11101000000110001000</td>\n",
       "      <td>277.819396</td>\n",
       "      <td>0.015625</td>\n",
       "      <td>34.144786</td>\n",
       "    </tr>\n",
       "    <tr>\n",
       "      <th>5</th>\n",
       "      <td>5</td>\n",
       "      <td>4</td>\n",
       "      <td>11111000100010001000</td>\n",
       "      <td>189.112716</td>\n",
       "      <td>0.999023</td>\n",
       "      <td>33.061631</td>\n",
       "    </tr>\n",
       "  </tbody>\n",
       "</table>\n",
       "</div>"
      ],
      "text/plain": [
       "  n (No. of locations) K (No. of vehicles)      Quantum Solution Quantum Cost  \\\n",
       "1                    4                   2           11100100010   142.499906   \n",
       "2                    4                   3          111100100100   136.569436   \n",
       "3                    5                   2  10101000000110000010   123.297116   \n",
       "4                    5                   3  11101000000110001000   277.819396   \n",
       "5                    5                   4  11111000100010001000   189.112716   \n",
       "\n",
       "  Probability Execution Time (in s)  \n",
       "1    0.011719               0.97977  \n",
       "2    0.999023              0.568725  \n",
       "3    0.999023             33.383051  \n",
       "4    0.015625             34.144786  \n",
       "5    0.999023             33.061631  "
      ]
     },
     "execution_count": 36,
     "metadata": {},
     "output_type": "execute_result"
    }
   ],
   "source": [
    "### Combining all the Warm Starting QAOA results into a single Dataframe and saving it as a file ###\n",
    "filename = 'results_warm_start_QAOA.csv'\n",
    "if os.path.isfile(filename): \n",
    "    result_df_warm_start = pd.read_csv(filename)\n",
    "    df_warm_start = solutions_to_df(n, K, optimal_10_warm_start, quantum_cost_warm_start, optimal_10_prob_warm_start) \n",
    "    result_df_warm_start = result_df_warm_start.append(df_warm_start)\n",
    "else:\n",
    "    df_warm_start = solutions_to_df(n, K, optimal_10_warm_start, quantum_cost_warm_start, optimal_10_prob_warm_start)\n",
    "    result_df_warm_start = pd.DataFrame(df_warm_start)\n",
    "result_df_warm_start.to_csv(filename)\n",
    "result_df_warm_start[['n (No. of locations)', 'K (No. of vehicles)', 'Quantum Solution', 'Quantum Cost', 'Probability', 'Execution Time (in s)']]"
   ]
  },
  {
   "cell_type": "markdown",
   "id": "88ab1d9e-3af6-49c8-8216-a9718d5b2774",
   "metadata": {},
   "source": [
    "# Quantum Optimization with Standard QAOA"
   ]
  },
  {
   "cell_type": "code",
   "execution_count": 16,
   "id": "13cdba7f-887d-47ec-b88e-aec398a88770",
   "metadata": {},
   "outputs": [],
   "source": [
    "#Defining our Quantum Optimizer class\n",
    "\n",
    "class QuantumOptimizer:\n",
    "\n",
    "    def __init__(self, weight_matrix, n, K):\n",
    "\n",
    "        self.weight_matrix = weight_matrix\n",
    "        self.n = n\n",
    "        self.K = K\n",
    "\n",
    "    def binary_representation(self,x_sol=0):\n",
    "\n",
    "        weight_matrix = self.weight_matrix\n",
    "        n = self.n\n",
    "        K = self.K\n",
    "\n",
    "        A = np.max(weight_matrix) * 100  # A parameter of cost function\n",
    "\n",
    "        # Determine the weights w\n",
    "        weight_matrix_vec = weight_matrix.reshape(n ** 2)\n",
    "        w_list = [weight_matrix_vec[x] for x in range(n ** 2) if weight_matrix_vec[x] > 0]\n",
    "        w = np.zeros(n * (n - 1))\n",
    "        for i in range(len(w_list)):\n",
    "            w[i] = w_list[i]\n",
    "\n",
    "        # Some variables I will use\n",
    "        Id_n = np.eye(n)\n",
    "        Im_n_1 = np.ones([n - 1, n - 1])\n",
    "        Iv_n_1 = np.ones(n)\n",
    "        Iv_n_1[0] = 0\n",
    "        Iv_n = np.ones(n-1)\n",
    "        neg_Iv_n_1 = np.ones(n) - Iv_n_1\n",
    "\n",
    "        v = np.zeros([n, n*(n-1)])\n",
    "        for i in range(n):\n",
    "            count = i-1\n",
    "            for j in range(n*(n-1)):\n",
    "\n",
    "                if j//(n-1) == i:\n",
    "                    count = i\n",
    "\n",
    "                if j//(n-1) != i and j%(n-1) == count:\n",
    "                    v[i][j] = 1.\n",
    "\n",
    "        vn = np.sum(v[1:], axis=0)\n",
    "\n",
    "        # Q defines the interactions between variables\n",
    "        Q = A*(np.kron(Id_n, Im_n_1) + np.dot(v.T, v))\n",
    "\n",
    "        # g defines the contribution from the individual variables\n",
    "        g = w - 2 * A * (np.kron(Iv_n_1,Iv_n) + vn.T) - \\\n",
    "                2 * A * K * (np.kron(neg_Iv_n_1, Iv_n) + v[0].T)\n",
    "\n",
    "        # c is the constant offset\n",
    "        c = 2 * A * (n-1) + 2 * A * (K ** 2)\n",
    "\n",
    "        try:\n",
    "            max(x_sol)\n",
    "            # Evaluates the cost distance from a binary representation of a path\n",
    "            fun = lambda x: np.dot(np.around(x), np.dot(Q, np.around(x))) + np.dot(g, np.around(x)) + c\n",
    "            cost = fun(x_sol)\n",
    "        except:\n",
    "            cost = 0\n",
    "\n",
    "        return Q, g, c, cost\n",
    "\n",
    "    def construct_problem(self, Q, g, c) -> QuadraticProgram:\n",
    "        qp = QuadraticProgram()\n",
    "        for i in range(n * (n - 1)):\n",
    "            qp.binary_var()\n",
    "        qp.objective.quadratic = Q\n",
    "        qp.objective.linear = g\n",
    "        qp.objective.constant = c\n",
    "        return qp\n",
    "\n",
    "    def solve_problem(self, qp):\n",
    "        algorithm_globals.random_seed = 43\n",
    "        quantum_instance = QuantumInstance(BasicAer.get_backend('qasm_simulator'),\n",
    "                                           seed_simulator=algorithm_globals.random_seed,\n",
    "                                           seed_transpiler=algorithm_globals.random_seed)\n",
    "\n",
    "        qaoa = QAOA(quantum_instance=quantum_instance, initial_point=[0., 1.])\n",
    "        optimizer = MinimumEigenOptimizer(min_eigen_solver=qaoa)\n",
    "        result = optimizer.solve(qp)\n",
    "        # compute cost of the obtained result\n",
    "        _,_,_,level = self.binary_representation(x_sol=result.x)\n",
    "        return result, result.x, level"
   ]
  },
  {
   "cell_type": "code",
   "execution_count": 17,
   "id": "266c22ce-e230-4f08-8239-fea6bca9e3e0",
   "metadata": {},
   "outputs": [],
   "source": [
    "# Instantiate the quantum optimizer class with parameters:\n",
    "quantum_optimizer = QuantumOptimizer(weight_matrix, n, K)"
   ]
  },
  {
   "cell_type": "code",
   "execution_count": null,
   "id": "edfff679-2979-44f3-8b2b-46da53037b1a",
   "metadata": {},
   "outputs": [],
   "source": [
    "Q, g, c, binary_cost = quantum_optimizer.binary_representation()"
   ]
  },
  {
   "cell_type": "code",
   "execution_count": 19,
   "id": "c6a6f7f0-bef3-4800-9513-e101101acb94",
   "metadata": {},
   "outputs": [
    {
     "name": "stdout",
     "output_type": "stream",
     "text": [
      "\\ This file has been generated by DOcplex\n",
      "\\ ENCODING=ISO-8859-1\n",
      "\\Problem name: CPLEX\n",
      "\n",
      "Minimize\n",
      " obj: - 73596.904450919756 x0 - 73560.931412470265 x1 - 73548.240960018622 x2\n",
      "      - 73596.881156280782 x3 - 73596.904450919756 x4 - 24492.877514744137 x5\n",
      "      - 24474.641331199731 x6 - 24532.530524991133 x7 - 73560.931412470265 x8\n",
      "      - 24492.877514744137 x9 - 24524.640874012217 x10 - 24489.298996987432 x11\n",
      "      - 73548.240960018622 x12 - 24474.641331199731 x13 - 24524.640874012217 x14\n",
      "      - 24471.291123748873 x15 - 73596.881156280782 x16 - 24532.530524991133 x17\n",
      "      - 24489.298996987432 x18 - 24471.291123748873 x19 + [\n",
      "      24532.622680449997 x0^2 + 24532.622680449997 x0*x1\n",
      "      + 24532.622680449997 x0*x2 + 24532.622680449997 x0*x3\n",
      "      + 24532.622680449997 x0*x9 + 24532.622680449997 x0*x13\n",
      "      + 24532.622680449997 x0*x17 + 24532.622680449997 x1^2\n",
      "      + 24532.622680449997 x1*x2 + 24532.622680449997 x1*x3\n",
      "      + 24532.622680449997 x1*x5 + 24532.622680449997 x1*x14\n",
      "      + 24532.622680449997 x1*x18 + 24532.622680449997 x2^2\n",
      "      + 24532.622680449997 x2*x3 + 24532.622680449997 x2*x6\n",
      "      + 24532.622680449997 x2*x10 + 24532.622680449997 x2*x19\n",
      "      + 24532.622680449997 x3^2 + 24532.622680449997 x3*x7\n",
      "      + 24532.622680449997 x3*x11 + 24532.622680449997 x3*x15\n",
      "      + 24532.622680449997 x4^2 + 24532.622680449997 x4*x5\n",
      "      + 24532.622680449997 x4*x6 + 24532.622680449997 x4*x7\n",
      "      + 24532.622680449997 x4*x8 + 24532.622680449997 x4*x12\n",
      "      + 24532.622680449997 x4*x16 + 24532.622680449997 x5^2\n",
      "      + 24532.622680449997 x5*x6 + 24532.622680449997 x5*x7\n",
      "      + 24532.622680449997 x5*x14 + 24532.622680449997 x5*x18\n",
      "      + 24532.622680449997 x6^2 + 24532.622680449997 x6*x7\n",
      "      + 24532.622680449997 x6*x10 + 24532.622680449997 x6*x19\n",
      "      + 24532.622680449997 x7^2 + 24532.622680449997 x7*x11\n",
      "      + 24532.622680449997 x7*x15 + 24532.622680449997 x8^2\n",
      "      + 24532.622680449997 x8*x9 + 24532.622680449997 x8*x10\n",
      "      + 24532.622680449997 x8*x11 + 24532.622680449997 x8*x12\n",
      "      + 24532.622680449997 x8*x16 + 24532.622680449997 x9^2\n",
      "      + 24532.622680449997 x9*x10 + 24532.622680449997 x9*x11\n",
      "      + 24532.622680449997 x9*x13 + 24532.622680449997 x9*x17\n",
      "      + 24532.622680449997 x10^2 + 24532.622680449997 x10*x11\n",
      "      + 24532.622680449997 x10*x19 + 24532.622680449997 x11^2\n",
      "      + 24532.622680449997 x11*x15 + 24532.622680449997 x12^2\n",
      "      + 24532.622680449997 x12*x13 + 24532.622680449997 x12*x14\n",
      "      + 24532.622680449997 x12*x15 + 24532.622680449997 x12*x16\n",
      "      + 24532.622680449997 x13^2 + 24532.622680449997 x13*x14\n",
      "      + 24532.622680449997 x13*x15 + 24532.622680449997 x13*x17\n",
      "      + 24532.622680449997 x14^2 + 24532.622680449997 x14*x15\n",
      "      + 24532.622680449997 x14*x18 + 24532.622680449997 x15^2\n",
      "      + 24532.622680449997 x16^2 + 24532.622680449997 x16*x17\n",
      "      + 24532.622680449997 x16*x18 + 24532.622680449997 x16*x19\n",
      "      + 24532.622680449997 x17^2 + 24532.622680449997 x17*x18\n",
      "      + 24532.622680449997 x17*x19 + 24532.622680449997 x18^2\n",
      "      + 24532.622680449997 x18*x19 + 24532.622680449997 x19^2 ]/2 +\n",
      "      355723.028866524983\n",
      "Subject To\n",
      "\n",
      "Bounds\n",
      " 0 <= x0 <= 1\n",
      " 0 <= x1 <= 1\n",
      " 0 <= x2 <= 1\n",
      " 0 <= x3 <= 1\n",
      " 0 <= x4 <= 1\n",
      " 0 <= x5 <= 1\n",
      " 0 <= x6 <= 1\n",
      " 0 <= x7 <= 1\n",
      " 0 <= x8 <= 1\n",
      " 0 <= x9 <= 1\n",
      " 0 <= x10 <= 1\n",
      " 0 <= x11 <= 1\n",
      " 0 <= x12 <= 1\n",
      " 0 <= x13 <= 1\n",
      " 0 <= x14 <= 1\n",
      " 0 <= x15 <= 1\n",
      " 0 <= x16 <= 1\n",
      " 0 <= x17 <= 1\n",
      " 0 <= x18 <= 1\n",
      " 0 <= x19 <= 1\n",
      "\n",
      "Binaries\n",
      " x0 x1 x2 x3 x4 x5 x6 x7 x8 x9 x10 x11 x12 x13 x14 x15 x16 x17 x18 x19\n",
      "End\n",
      "\n"
     ]
    }
   ],
   "source": [
    "qp = quantum_optimizer.construct_problem(Q, g, c)\n",
    "print(qp)"
   ]
  },
  {
   "cell_type": "code",
   "execution_count": 20,
   "id": "a9bc6654-2a97-4bfd-8767-eec40e06397a",
   "metadata": {},
   "outputs": [
    {
     "name": "stdout",
     "output_type": "stream",
     "text": [
      "Elapsed time during the whole program in seconds: 1642.728246231\n",
      "[0. 1. 0. 1. 1. 0. 0. 0. 1. 0. 0. 0. 1. 1. 0. 0. 1. 0. 0. 1.] 73843.61864696088\n"
     ]
    }
   ],
   "source": [
    "### Solving Vehicle Routing Problem with Standard QAOA ###\n",
    "t_start = process_time()\n",
    "quantum, quantum_solution, quantum_cost = quantum_optimizer.solve_problem(qp)\n",
    "t_stop = process_time()\n",
    "t = t_stop-t_start\n",
    "   \n",
    "print(\"Elapsed time during the whole program in seconds:\", t)\n",
    "\n",
    "print(quantum_solution, quantum_cost)"
   ]
  },
  {
   "cell_type": "code",
   "execution_count": 21,
   "id": "d7f9ed50-c0d3-47e8-b9c8-c53bd2026fd9",
   "metadata": {},
   "outputs": [
    {
     "data": {
      "image/png": "[encoded data removed]",
      "text/plain": [
       "<Figure size 432x288 with 1 Axes>"
      ]
     },
     "metadata": {
      "needs_background": "light"
     },
     "output_type": "display_data"
    }
   ],
   "source": [
    "### Plotting Samples to Bar Graph ###\n",
    "    \n",
    "optimal_10, optimal_10_prob = samples_to_graph(quantum.samples) #The most optimal solutions will be plotted in descending order with most optimal solution being the first"
   ]
  },
  {
   "cell_type": "code",
   "execution_count": 22,
   "id": "38f22c86-bed4-41a2-88ab-0ffc0b73d92a",
   "metadata": {},
   "outputs": [
    {
     "data": {
      "image/png": "[encoded data removed]",
      "text/plain": [
       "<Figure size 432x288 with 1 Axes>"
      ]
     },
     "metadata": {
      "needs_background": "light"
     },
     "output_type": "display_data"
    }
   ],
   "source": [
    "# Put the solution in a way that is compatible with the classical variables\n",
    "x_quantum = np.zeros(n**2)\n",
    "kk = 0\n",
    "for ii in range(n ** 2):\n",
    "    if ii // n != ii % n:\n",
    "        x_quantum[ii] = quantum_solution[kk]\n",
    "        kk +=  1\n",
    "\n",
    "# visualize the solution\n",
    "visualize_solution(x, y, x_quantum, quantum_cost, n, K, 'Quantum')"
   ]
  },
  {
   "cell_type": "code",
   "execution_count": 37,
   "id": "2ccf0357-8453-4316-8186-62ada16e8cdc",
   "metadata": {},
   "outputs": [
    {
     "data": {
      "text/html": [
       "<div>\n",
       "<style scoped>\n",
       "    .dataframe tbody tr th:only-of-type {\n",
       "        vertical-align: middle;\n",
       "    }\n",
       "\n",
       "    .dataframe tbody tr th {\n",
       "        vertical-align: top;\n",
       "    }\n",
       "\n",
       "    .dataframe thead th {\n",
       "        text-align: right;\n",
       "    }\n",
       "</style>\n",
       "<table border=\"1\" class=\"dataframe\">\n",
       "  <thead>\n",
       "    <tr style=\"text-align: right;\">\n",
       "      <th></th>\n",
       "      <th>n (No. of locations)</th>\n",
       "      <th>K (No. of vehicles)</th>\n",
       "      <th>Quantum Solution</th>\n",
       "      <th>Quantum Cost</th>\n",
       "      <th>Probability</th>\n",
       "      <th>Execution Time (in s)</th>\n",
       "    </tr>\n",
       "  </thead>\n",
       "  <tbody>\n",
       "    <tr>\n",
       "      <th>1</th>\n",
       "      <td>4</td>\n",
       "      <td>2</td>\n",
       "      <td>101010100100</td>\n",
       "      <td>151.663796</td>\n",
       "      <td>0.000977</td>\n",
       "      <td>54.211239</td>\n",
       "    </tr>\n",
       "    <tr>\n",
       "      <th>2</th>\n",
       "      <td>4</td>\n",
       "      <td>3</td>\n",
       "      <td>111100100100</td>\n",
       "      <td>136.569436</td>\n",
       "      <td>0.001953</td>\n",
       "      <td>30.251411</td>\n",
       "    </tr>\n",
       "    <tr>\n",
       "      <th>3</th>\n",
       "      <td>5</td>\n",
       "      <td>2</td>\n",
       "      <td>10010100110000000001</td>\n",
       "      <td>39618.816793</td>\n",
       "      <td>0.000977</td>\n",
       "      <td>1093.039768</td>\n",
       "    </tr>\n",
       "    <tr>\n",
       "      <th>4</th>\n",
       "      <td>5</td>\n",
       "      <td>3</td>\n",
       "      <td>11101000100100101000</td>\n",
       "      <td>20653.43979</td>\n",
       "      <td>0.000977</td>\n",
       "      <td>1233.220584</td>\n",
       "    </tr>\n",
       "    <tr>\n",
       "      <th>5</th>\n",
       "      <td>5</td>\n",
       "      <td>4</td>\n",
       "      <td>11110010100010001000</td>\n",
       "      <td>22999.934887</td>\n",
       "      <td>0.000977</td>\n",
       "      <td>1283.739113</td>\n",
       "    </tr>\n",
       "  </tbody>\n",
       "</table>\n",
       "</div>"
      ],
      "text/plain": [
       "  n (No. of locations) K (No. of vehicles)      Quantum Solution  \\\n",
       "1                    4                   2          101010100100   \n",
       "2                    4                   3          111100100100   \n",
       "3                    5                   2  10010100110000000001   \n",
       "4                    5                   3  11101000100100101000   \n",
       "5                    5                   4  11110010100010001000   \n",
       "\n",
       "   Quantum Cost Probability Execution Time (in s)  \n",
       "1    151.663796    0.000977             54.211239  \n",
       "2    136.569436    0.001953             30.251411  \n",
       "3  39618.816793    0.000977           1093.039768  \n",
       "4   20653.43979    0.000977           1233.220584  \n",
       "5  22999.934887    0.000977           1283.739113  "
      ]
     },
     "execution_count": 37,
     "metadata": {},
     "output_type": "execute_result"
    }
   ],
   "source": [
    "### Combining all the Standard QAOA results into a single Dataframe and saving it as a file ###\n",
    "filename = 'results_standard_QAOA.csv'\n",
    "if os.path.isfile(filename):\n",
    "    result_df_standard = pd.read_csv(filename)\n",
    "    df_standard = solutions_to_df(n, K, optimal_10, quantum_cost, optimal_10_prob)\n",
    "    result_df_standard = result_df_standard.append(df_standard)\n",
    "else:\n",
    "    df_standard = solutions_to_df(n, K, optimal_10, quantum_cost, optimal_10_prob)\n",
    "    result_df_standard = pd.DataFrame(df_standard)\n",
    "result_df_standard.to_csv(filename)\n",
    "result_df_standard[['n (No. of locations)', 'K (No. of vehicles)', 'Quantum Solution', 'Quantum Cost', 'Probability', 'Execution Time (in s)']]"
   ]
  },
  {
   "cell_type": "markdown",
   "id": "99a15700-0e96-4f3b-8beb-81a441f6deed",
   "metadata": {},
   "source": [
    "# Comparing Standard QAOA and Warm Starting QAOA"
   ]
  },
  {
   "cell_type": "markdown",
   "id": "866e2f91-b963-4521-a52c-51ec8123b769",
   "metadata": {},
   "source": [
    "### Comparing Quantum Cost computed using Standard QAOA vs Warm Starting QAOA"
   ]
  },
  {
   "cell_type": "code",
   "execution_count": 49,
   "id": "aacddd8a-5e16-4160-bef4-cdf8cf7dff3d",
   "metadata": {},
   "outputs": [
    {
     "data": {
      "image/png": "[encoded data removed]",
      "text/plain": [
       "<Figure size 432x288 with 1 Axes>"
      ]
     },
     "metadata": {
      "needs_background": "light"
     },
     "output_type": "display_data"
    },
    {
     "data": {
      "image/png": "[encoded data removed]",
      "text/plain": [
       "<Figure size 432x288 with 1 Axes>"
      ]
     },
     "metadata": {
      "needs_background": "light"
     },
     "output_type": "display_data"
    }
   ],
   "source": [
    "index = result_df_standard.index\n",
    "standard_np_q_cost = result_df_standard['Quantum Cost'].to_numpy()\n",
    "plt.plot(index, standard_np_q_cost, marker='o', color='red')\n",
    "plt.title('Quantum Cost for different instances with Standard QAOA')\n",
    "plt.xlabel('Index of Dataframe')\n",
    "plt.ylabel('Quantum Cost')\n",
    "plt.show()\n",
    "\n",
    "index_warm = result_df_warm_start.index\n",
    "warm_start_np_q_cost = result_df_warm_start['Quantum Cost'].to_numpy()\n",
    "plt.plot(index_warm, warm_start_np_q_cost, marker='o')\n",
    "plt.title('Quantum Cost for different instances with Warm Starting QAOA')\n",
    "plt.xlabel('Index of Dataframe')\n",
    "plt.ylabel('Quantum Cost')\n",
    "plt.show()"
   ]
  },
  {
   "cell_type": "markdown",
   "id": "d3851191-8385-4b33-98a5-622f96f42056",
   "metadata": {},
   "source": [
    "### Comparing Probability computed using Standard QAOA vs Warm Starting QAOA"
   ]
  },
  {
   "cell_type": "code",
   "execution_count": 51,
   "id": "69f568a6-59c5-4a3b-ad53-02f757523c4b",
   "metadata": {},
   "outputs": [
    {
     "data": {
      "image/png": "[encoded data removed]",
      "text/plain": [
       "<Figure size 432x288 with 1 Axes>"
      ]
     },
     "metadata": {
      "needs_background": "light"
     },
     "output_type": "display_data"
    },
    {
     "data": {
      "image/png": "[encoded data removed]",
      "text/plain": [
       "<Figure size 432x288 with 1 Axes>"
      ]
     },
     "metadata": {
      "needs_background": "light"
     },
     "output_type": "display_data"
    }
   ],
   "source": [
    "index = result_df_standard.index\n",
    "standard_np_q_prob = result_df_standard['Probability'].to_numpy()\n",
    "plt.plot(index, standard_np_q_prob, marker='o', color='red')\n",
    "plt.title('Probability for different instances with Standard QAOA')\n",
    "plt.xlabel('Index of Dataframe')\n",
    "plt.ylabel('Probability')\n",
    "plt.show()\n",
    "\n",
    "index_warm = result_df_warm_start.index\n",
    "warm_start_np_q_prob = result_df_warm_start['Probability'].to_numpy()\n",
    "plt.plot(index_warm, warm_start_np_q_prob, marker='o')\n",
    "plt.title('Probability for different instances with Warm Starting QAOA')\n",
    "plt.xlabel('Index of Dataframe')\n",
    "plt.ylabel('Probability')\n",
    "plt.show()"
   ]
  },
  {
   "cell_type": "markdown",
   "id": "aaa67179-0e1e-414d-a26f-1121815c11c7",
   "metadata": {},
   "source": [
    "### Comparing Execution Time (in s) computed using Standard QAOA vs Warm Starting QAOA"
   ]
  },
  {
   "cell_type": "code",
   "execution_count": 52,
   "id": "40dc061c-22c6-43ff-90fc-45c97eb15615",
   "metadata": {},
   "outputs": [
    {
     "data": {
      "image/png": "[encoded data removed]",
      "text/plain": [
       "<Figure size 432x288 with 1 Axes>"
      ]
     },
     "metadata": {
      "needs_background": "light"
     },
     "output_type": "display_data"
    },
    {
     "data": {
      "image/png": "[encoded data removed]",
      "text/plain": [
       "<Figure size 432x288 with 1 Axes>"
      ]
     },
     "metadata": {
      "needs_background": "light"
     },
     "output_type": "display_data"
    }
   ],
   "source": [
    "index = result_df_standard.index\n",
    "standard_np_q_time = result_df_standard['Execution Time (in s)'].to_numpy()\n",
    "plt.plot(index, standard_np_q_time, marker='o', color='red')\n",
    "plt.title('Execution Time (in s) for different instances with Standard QAOA')\n",
    "plt.xlabel('Index of Dataframe')\n",
    "plt.ylabel('Execution Time (in s)')\n",
    "plt.show()\n",
    "\n",
    "index_warm = result_df_warm_start.index\n",
    "warm_start_np_q_time = result_df_warm_start['Execution Time (in s)'].to_numpy()\n",
    "plt.plot(index_warm, warm_start_np_q_time, marker='o')\n",
    "plt.title('Execution Time (in s) for different instances with Warm Starting QAOA')\n",
    "plt.xlabel('Index of Dataframe')\n",
    "plt.ylabel('Execution Time (in s)')\n",
    "plt.show()"
   ]
  }
 ],
 "metadata": {
  "kernelspec": {
   "display_name": "Python 3 (ipykernel)",
   "language": "python",
   "name": "python3"
  },
  "language_info": {
   "codemirror_mode": {
    "name": "ipython",
    "version": 3
   },
   "file_extension": ".py",
   "mimetype": "text/x-python",
   "name": "python",
   "nbconvert_exporter": "python",
   "pygments_lexer": "ipython3",
   "version": "3.10.8"
  },
  "widgets": {
   "application/vnd.jupyter.widget-state+json": {
    "state": {},
    "version_major": 2,
    "version_minor": 0
   }
  }
 },
 "nbformat": 4,
 "nbformat_minor": 5
}
